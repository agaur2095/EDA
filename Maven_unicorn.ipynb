{
 "cells": [
  {
   "cell_type": "code",
   "execution_count": 1,
   "id": "cff0a3b1",
   "metadata": {},
   "outputs": [],
   "source": [
    "import pandas as pd\n",
    "import numpy as np\n",
    "import datetime as dt\n",
    "import seaborn as sns\n",
    "import matplotlib.pyplot as plt"
   ]
  },
  {
   "cell_type": "code",
   "execution_count": 2,
   "id": "a72864c8",
   "metadata": {},
   "outputs": [],
   "source": [
    "uc_comp=pd.read_csv(filepath_or_buffer='D:/Python/Unicorn_Companies/Unicorn_Companies.csv',encoding='ANSI')"
   ]
  },
  {
   "cell_type": "code",
   "execution_count": 3,
   "id": "19b08221",
   "metadata": {},
   "outputs": [
    {
     "data": {
      "text/html": [
       "<div>\n",
       "<style scoped>\n",
       "    .dataframe tbody tr th:only-of-type {\n",
       "        vertical-align: middle;\n",
       "    }\n",
       "\n",
       "    .dataframe tbody tr th {\n",
       "        vertical-align: top;\n",
       "    }\n",
       "\n",
       "    .dataframe thead th {\n",
       "        text-align: right;\n",
       "    }\n",
       "</style>\n",
       "<table border=\"1\" class=\"dataframe\">\n",
       "  <thead>\n",
       "    <tr style=\"text-align: right;\">\n",
       "      <th></th>\n",
       "      <th>Company</th>\n",
       "      <th>Valuation</th>\n",
       "      <th>Date Joined</th>\n",
       "      <th>Industry</th>\n",
       "      <th>City</th>\n",
       "      <th>Country</th>\n",
       "      <th>Continent</th>\n",
       "      <th>Year Founded</th>\n",
       "      <th>Funding</th>\n",
       "      <th>Select Investors</th>\n",
       "    </tr>\n",
       "  </thead>\n",
       "  <tbody>\n",
       "    <tr>\n",
       "      <th>0</th>\n",
       "      <td>Bytedance</td>\n",
       "      <td>$180B</td>\n",
       "      <td>2017-04-07</td>\n",
       "      <td>Artificial intelligence</td>\n",
       "      <td>Beijing</td>\n",
       "      <td>China</td>\n",
       "      <td>Asia</td>\n",
       "      <td>2012</td>\n",
       "      <td>$8B</td>\n",
       "      <td>Sequoia Capital China, SIG Asia Investments, S...</td>\n",
       "    </tr>\n",
       "    <tr>\n",
       "      <th>1</th>\n",
       "      <td>SpaceX</td>\n",
       "      <td>$100B</td>\n",
       "      <td>2012-12-01</td>\n",
       "      <td>Other</td>\n",
       "      <td>Hawthorne</td>\n",
       "      <td>United States</td>\n",
       "      <td>North America</td>\n",
       "      <td>2002</td>\n",
       "      <td>$7B</td>\n",
       "      <td>Founders Fund, Draper Fisher Jurvetson, Rothen...</td>\n",
       "    </tr>\n",
       "    <tr>\n",
       "      <th>2</th>\n",
       "      <td>SHEIN</td>\n",
       "      <td>$100B</td>\n",
       "      <td>2018-07-03</td>\n",
       "      <td>E-commerce &amp; direct-to-consumer</td>\n",
       "      <td>Shenzhen</td>\n",
       "      <td>China</td>\n",
       "      <td>Asia</td>\n",
       "      <td>2008</td>\n",
       "      <td>$2B</td>\n",
       "      <td>Tiger Global Management, Sequoia Capital China...</td>\n",
       "    </tr>\n",
       "    <tr>\n",
       "      <th>3</th>\n",
       "      <td>Stripe</td>\n",
       "      <td>$95B</td>\n",
       "      <td>2014-01-23</td>\n",
       "      <td>Fintech</td>\n",
       "      <td>San Francisco</td>\n",
       "      <td>United States</td>\n",
       "      <td>North America</td>\n",
       "      <td>2010</td>\n",
       "      <td>$2B</td>\n",
       "      <td>Khosla Ventures, LowercaseCapital, capitalG</td>\n",
       "    </tr>\n",
       "    <tr>\n",
       "      <th>4</th>\n",
       "      <td>Klarna</td>\n",
       "      <td>$46B</td>\n",
       "      <td>2011-12-12</td>\n",
       "      <td>Fintech</td>\n",
       "      <td>Stockholm</td>\n",
       "      <td>Sweden</td>\n",
       "      <td>Europe</td>\n",
       "      <td>2005</td>\n",
       "      <td>$4B</td>\n",
       "      <td>Institutional Venture Partners, Sequoia Capita...</td>\n",
       "    </tr>\n",
       "  </tbody>\n",
       "</table>\n",
       "</div>"
      ],
      "text/plain": [
       "     Company Valuation Date Joined                         Industry  \\\n",
       "0  Bytedance     $180B  2017-04-07          Artificial intelligence   \n",
       "1     SpaceX     $100B  2012-12-01                            Other   \n",
       "2      SHEIN     $100B  2018-07-03  E-commerce & direct-to-consumer   \n",
       "3     Stripe      $95B  2014-01-23                          Fintech   \n",
       "4     Klarna      $46B  2011-12-12                          Fintech   \n",
       "\n",
       "            City        Country      Continent  Year Founded Funding  \\\n",
       "0        Beijing          China           Asia          2012     $8B   \n",
       "1      Hawthorne  United States  North America          2002     $7B   \n",
       "2       Shenzhen          China           Asia          2008     $2B   \n",
       "3  San Francisco  United States  North America          2010     $2B   \n",
       "4      Stockholm         Sweden         Europe          2005     $4B   \n",
       "\n",
       "                                    Select Investors  \n",
       "0  Sequoia Capital China, SIG Asia Investments, S...  \n",
       "1  Founders Fund, Draper Fisher Jurvetson, Rothen...  \n",
       "2  Tiger Global Management, Sequoia Capital China...  \n",
       "3        Khosla Ventures, LowercaseCapital, capitalG  \n",
       "4  Institutional Venture Partners, Sequoia Capita...  "
      ]
     },
     "execution_count": 3,
     "metadata": {},
     "output_type": "execute_result"
    }
   ],
   "source": [
    "uc_comp.head()"
   ]
  },
  {
   "cell_type": "code",
   "execution_count": 4,
   "id": "58291b0a",
   "metadata": {},
   "outputs": [],
   "source": [
    "s=uc_comp['Select Investors'].str.split(pat=',',expand=True)\n"
   ]
  },
  {
   "cell_type": "code",
   "execution_count": 5,
   "id": "1e8dde51",
   "metadata": {},
   "outputs": [],
   "source": [
    "uc_comp=pd.concat([uc_comp,s],axis=1)"
   ]
  },
  {
   "cell_type": "code",
   "execution_count": 6,
   "id": "a9a76a65",
   "metadata": {},
   "outputs": [
    {
     "name": "stdout",
     "output_type": "stream",
     "text": [
      "<class 'pandas.core.frame.DataFrame'>\n",
      "RangeIndex: 1074 entries, 0 to 1073\n",
      "Data columns (total 14 columns):\n",
      " #   Column            Non-Null Count  Dtype \n",
      "---  ------            --------------  ----- \n",
      " 0   Company           1074 non-null   object\n",
      " 1   Valuation         1074 non-null   object\n",
      " 2   Date Joined       1074 non-null   object\n",
      " 3   Industry          1074 non-null   object\n",
      " 4   City              1058 non-null   object\n",
      " 5   Country           1074 non-null   object\n",
      " 6   Continent         1074 non-null   object\n",
      " 7   Year Founded      1074 non-null   int64 \n",
      " 8   Funding           1074 non-null   object\n",
      " 9   Select Investors  1073 non-null   object\n",
      " 10  0                 1073 non-null   object\n",
      " 11  1                 1027 non-null   object\n",
      " 12  2                 945 non-null    object\n",
      " 13  3                 8 non-null      object\n",
      "dtypes: int64(1), object(13)\n",
      "memory usage: 117.6+ KB\n"
     ]
    }
   ],
   "source": [
    "uc_comp.info()"
   ]
  },
  {
   "cell_type": "code",
   "execution_count": 7,
   "id": "3af4d0e5",
   "metadata": {},
   "outputs": [
    {
     "name": "stderr",
     "output_type": "stream",
     "text": [
      "C:\\Users\\gaura\\AppData\\Local\\Temp\\ipykernel_1516\\3432776223.py:2: FutureWarning: The default value of regex will change from True to False in a future version. In addition, single character regular expressions will *not* be treated as literal strings when regex=True.\n",
      "  uc_comp['Valuation']=uc_comp['Valuation'].str.replace('$','')\n"
     ]
    }
   ],
   "source": [
    "### data cleaning\n",
    "uc_comp['Valuation']=uc_comp['Valuation'].str.replace('$','')"
   ]
  },
  {
   "cell_type": "code",
   "execution_count": 8,
   "id": "a28a2d63",
   "metadata": {},
   "outputs": [],
   "source": [
    "uc_comp['Valuation']=uc_comp['Valuation'].str.replace('B','')"
   ]
  },
  {
   "cell_type": "code",
   "execution_count": 9,
   "id": "c3477b55",
   "metadata": {},
   "outputs": [],
   "source": [
    "uc_comp['Valuation']=uc_comp['Valuation'].astype('int64')"
   ]
  },
  {
   "cell_type": "code",
   "execution_count": 10,
   "id": "3016a5c1",
   "metadata": {},
   "outputs": [
    {
     "name": "stderr",
     "output_type": "stream",
     "text": [
      "C:\\Users\\gaura\\AppData\\Local\\Temp\\ipykernel_1516\\3718405590.py:1: FutureWarning: The default value of regex will change from True to False in a future version. In addition, single character regular expressions will *not* be treated as literal strings when regex=True.\n",
      "  uc_comp['Funding']=uc_comp['Funding'].str.replace('$','')\n"
     ]
    }
   ],
   "source": [
    "uc_comp['Funding']=uc_comp['Funding'].str.replace('$','')"
   ]
  },
  {
   "cell_type": "code",
   "execution_count": 11,
   "id": "0b831f26",
   "metadata": {},
   "outputs": [],
   "source": [
    "uc_comp['Funding']=uc_comp['Funding'].str.replace('B','')\n",
    "uc_comp['Funding']=uc_comp['Funding'].str.replace('M','')"
   ]
  },
  {
   "cell_type": "code",
   "execution_count": 12,
   "id": "f89327d9",
   "metadata": {},
   "outputs": [],
   "source": [
    "uc_comp=uc_comp.loc[uc_comp.Funding!='Unknown',:]"
   ]
  },
  {
   "cell_type": "code",
   "execution_count": 13,
   "id": "c969d0a7",
   "metadata": {},
   "outputs": [],
   "source": [
    "uc_comp['Funding']=uc_comp['Funding'].astype('int64')"
   ]
  },
  {
   "cell_type": "code",
   "execution_count": 14,
   "id": "ea197a0b",
   "metadata": {},
   "outputs": [
    {
     "name": "stdout",
     "output_type": "stream",
     "text": [
      "<class 'pandas.core.frame.DataFrame'>\n",
      "Int64Index: 1062 entries, 0 to 1073\n",
      "Data columns (total 14 columns):\n",
      " #   Column            Non-Null Count  Dtype \n",
      "---  ------            --------------  ----- \n",
      " 0   Company           1062 non-null   object\n",
      " 1   Valuation         1062 non-null   int64 \n",
      " 2   Date Joined       1062 non-null   object\n",
      " 3   Industry          1062 non-null   object\n",
      " 4   City              1046 non-null   object\n",
      " 5   Country           1062 non-null   object\n",
      " 6   Continent         1062 non-null   object\n",
      " 7   Year Founded      1062 non-null   int64 \n",
      " 8   Funding           1062 non-null   int64 \n",
      " 9   Select Investors  1061 non-null   object\n",
      " 10  0                 1061 non-null   object\n",
      " 11  1                 1019 non-null   object\n",
      " 12  2                 939 non-null    object\n",
      " 13  3                 8 non-null      object\n",
      "dtypes: int64(3), object(11)\n",
      "memory usage: 124.5+ KB\n"
     ]
    }
   ],
   "source": [
    "uc_comp.info()"
   ]
  },
  {
   "cell_type": "code",
   "execution_count": 15,
   "id": "82256cdd",
   "metadata": {},
   "outputs": [],
   "source": [
    "uc_comp['roi']=uc_comp['Valuation']/uc_comp['Funding']*100"
   ]
  },
  {
   "cell_type": "code",
   "execution_count": 16,
   "id": "05d6a006",
   "metadata": {},
   "outputs": [],
   "source": [
    "top_roi=uc_comp.sort_values(by='roi',ascending=False)"
   ]
  },
  {
   "cell_type": "code",
   "execution_count": 17,
   "id": "5781a26b",
   "metadata": {},
   "outputs": [],
   "source": [
    "top_roi['per_roi']=top_roi['roi'].round(2)"
   ]
  },
  {
   "cell_type": "code",
   "execution_count": 18,
   "id": "d5f9a9ab",
   "metadata": {},
   "outputs": [],
   "source": [
    "top_roi['per_roi']=top_roi['per_roi'].astype('str')+' %'"
   ]
  },
  {
   "cell_type": "code",
   "execution_count": 19,
   "id": "2168d43b",
   "metadata": {},
   "outputs": [
    {
     "data": {
      "text/html": [
       "<div>\n",
       "<style scoped>\n",
       "    .dataframe tbody tr th:only-of-type {\n",
       "        vertical-align: middle;\n",
       "    }\n",
       "\n",
       "    .dataframe tbody tr th {\n",
       "        vertical-align: top;\n",
       "    }\n",
       "\n",
       "    .dataframe thead th {\n",
       "        text-align: right;\n",
       "    }\n",
       "</style>\n",
       "<table border=\"1\" class=\"dataframe\">\n",
       "  <thead>\n",
       "    <tr style=\"text-align: right;\">\n",
       "      <th></th>\n",
       "      <th>Company</th>\n",
       "      <th>Valuation</th>\n",
       "      <th>Date Joined</th>\n",
       "      <th>Industry</th>\n",
       "      <th>City</th>\n",
       "      <th>Country</th>\n",
       "      <th>Continent</th>\n",
       "      <th>Year Founded</th>\n",
       "      <th>Funding</th>\n",
       "      <th>Select Investors</th>\n",
       "      <th>0</th>\n",
       "      <th>1</th>\n",
       "      <th>2</th>\n",
       "      <th>3</th>\n",
       "      <th>roi</th>\n",
       "      <th>per_roi</th>\n",
       "    </tr>\n",
       "  </thead>\n",
       "  <tbody>\n",
       "    <tr>\n",
       "      <th>189</th>\n",
       "      <td>Otto Bock HealthCare</td>\n",
       "      <td>4</td>\n",
       "      <td>2017-06-24</td>\n",
       "      <td>Health</td>\n",
       "      <td>Duderstadt</td>\n",
       "      <td>Germany</td>\n",
       "      <td>Europe</td>\n",
       "      <td>1919</td>\n",
       "      <td>0</td>\n",
       "      <td>EQT Partners</td>\n",
       "      <td>EQT Partners</td>\n",
       "      <td>None</td>\n",
       "      <td>None</td>\n",
       "      <td>None</td>\n",
       "      <td>inf</td>\n",
       "      <td>inf %</td>\n",
       "    </tr>\n",
       "    <tr>\n",
       "      <th>2</th>\n",
       "      <td>SHEIN</td>\n",
       "      <td>100</td>\n",
       "      <td>2018-07-03</td>\n",
       "      <td>E-commerce &amp; direct-to-consumer</td>\n",
       "      <td>Shenzhen</td>\n",
       "      <td>China</td>\n",
       "      <td>Asia</td>\n",
       "      <td>2008</td>\n",
       "      <td>2</td>\n",
       "      <td>Tiger Global Management, Sequoia Capital China...</td>\n",
       "      <td>Tiger Global Management</td>\n",
       "      <td>Sequoia Capital China</td>\n",
       "      <td>Shunwei Capital Partners</td>\n",
       "      <td>None</td>\n",
       "      <td>5000.000000</td>\n",
       "      <td>5000.0 %</td>\n",
       "    </tr>\n",
       "    <tr>\n",
       "      <th>3</th>\n",
       "      <td>Stripe</td>\n",
       "      <td>95</td>\n",
       "      <td>2014-01-23</td>\n",
       "      <td>Fintech</td>\n",
       "      <td>San Francisco</td>\n",
       "      <td>United States</td>\n",
       "      <td>North America</td>\n",
       "      <td>2010</td>\n",
       "      <td>2</td>\n",
       "      <td>Khosla Ventures, LowercaseCapital, capitalG</td>\n",
       "      <td>Khosla Ventures</td>\n",
       "      <td>LowercaseCapital</td>\n",
       "      <td>capitalG</td>\n",
       "      <td>None</td>\n",
       "      <td>4750.000000</td>\n",
       "      <td>4750.0 %</td>\n",
       "    </tr>\n",
       "    <tr>\n",
       "      <th>0</th>\n",
       "      <td>Bytedance</td>\n",
       "      <td>180</td>\n",
       "      <td>2017-04-07</td>\n",
       "      <td>Artificial intelligence</td>\n",
       "      <td>Beijing</td>\n",
       "      <td>China</td>\n",
       "      <td>Asia</td>\n",
       "      <td>2012</td>\n",
       "      <td>8</td>\n",
       "      <td>Sequoia Capital China, SIG Asia Investments, S...</td>\n",
       "      <td>Sequoia Capital China</td>\n",
       "      <td>SIG Asia Investments</td>\n",
       "      <td>Sina Weibo</td>\n",
       "      <td>Softbank Group</td>\n",
       "      <td>2250.000000</td>\n",
       "      <td>2250.0 %</td>\n",
       "    </tr>\n",
       "    <tr>\n",
       "      <th>6</th>\n",
       "      <td>Checkout.com</td>\n",
       "      <td>40</td>\n",
       "      <td>2019-05-02</td>\n",
       "      <td>Fintech</td>\n",
       "      <td>London</td>\n",
       "      <td>United Kingdom</td>\n",
       "      <td>Europe</td>\n",
       "      <td>2012</td>\n",
       "      <td>2</td>\n",
       "      <td>Tiger Global Management, Insight Partners, DST...</td>\n",
       "      <td>Tiger Global Management</td>\n",
       "      <td>Insight Partners</td>\n",
       "      <td>DST Global</td>\n",
       "      <td>None</td>\n",
       "      <td>2000.000000</td>\n",
       "      <td>2000.0 %</td>\n",
       "    </tr>\n",
       "    <tr>\n",
       "      <th>...</th>\n",
       "      <td>...</td>\n",
       "      <td>...</td>\n",
       "      <td>...</td>\n",
       "      <td>...</td>\n",
       "      <td>...</td>\n",
       "      <td>...</td>\n",
       "      <td>...</td>\n",
       "      <td>...</td>\n",
       "      <td>...</td>\n",
       "      <td>...</td>\n",
       "      <td>...</td>\n",
       "      <td>...</td>\n",
       "      <td>...</td>\n",
       "      <td>...</td>\n",
       "      <td>...</td>\n",
       "      <td>...</td>\n",
       "    </tr>\n",
       "    <tr>\n",
       "      <th>1061</th>\n",
       "      <td>WeLab</td>\n",
       "      <td>1</td>\n",
       "      <td>2017-11-08</td>\n",
       "      <td>Fintech</td>\n",
       "      <td>NaN</td>\n",
       "      <td>Hong Kong</td>\n",
       "      <td>Asia</td>\n",
       "      <td>2013</td>\n",
       "      <td>871</td>\n",
       "      <td>Sequoia Capital China, ING, Alibaba Entreprene...</td>\n",
       "      <td>Sequoia Capital China</td>\n",
       "      <td>ING</td>\n",
       "      <td>Alibaba Entrepreneurs Fund</td>\n",
       "      <td>None</td>\n",
       "      <td>0.114811</td>\n",
       "      <td>0.11 %</td>\n",
       "    </tr>\n",
       "    <tr>\n",
       "      <th>799</th>\n",
       "      <td>Tuhu</td>\n",
       "      <td>1</td>\n",
       "      <td>2018-09-15</td>\n",
       "      <td>Auto &amp; transportation</td>\n",
       "      <td>Shanghai</td>\n",
       "      <td>China</td>\n",
       "      <td>Asia</td>\n",
       "      <td>2011</td>\n",
       "      <td>875</td>\n",
       "      <td>Qiming Venture Partners, Yaxia Automobile, Far...</td>\n",
       "      <td>Qiming Venture Partners</td>\n",
       "      <td>Yaxia Automobile</td>\n",
       "      <td>Far East Horizon</td>\n",
       "      <td>None</td>\n",
       "      <td>0.114286</td>\n",
       "      <td>0.11 %</td>\n",
       "    </tr>\n",
       "    <tr>\n",
       "      <th>668</th>\n",
       "      <td>Forte Labs</td>\n",
       "      <td>1</td>\n",
       "      <td>2021-05-12</td>\n",
       "      <td>Fintech</td>\n",
       "      <td>San Francisco</td>\n",
       "      <td>United States</td>\n",
       "      <td>North America</td>\n",
       "      <td>2018</td>\n",
       "      <td>910</td>\n",
       "      <td>Iris Capital, Accel, Elaia Partners</td>\n",
       "      <td>Iris Capital</td>\n",
       "      <td>Accel</td>\n",
       "      <td>Elaia Partners</td>\n",
       "      <td>None</td>\n",
       "      <td>0.109890</td>\n",
       "      <td>0.11 %</td>\n",
       "    </tr>\n",
       "    <tr>\n",
       "      <th>658</th>\n",
       "      <td>Miaoshou Doctor</td>\n",
       "      <td>1</td>\n",
       "      <td>2019-06-27</td>\n",
       "      <td>E-commerce &amp; direct-to-consumer</td>\n",
       "      <td>Beijing</td>\n",
       "      <td>China</td>\n",
       "      <td>Asia</td>\n",
       "      <td>2015</td>\n",
       "      <td>947</td>\n",
       "      <td>Sequoia Capital China, Qiming Venture Partners...</td>\n",
       "      <td>Sequoia Capital China</td>\n",
       "      <td>Qiming Venture Partners</td>\n",
       "      <td>Tencent Holdings</td>\n",
       "      <td>None</td>\n",
       "      <td>0.105597</td>\n",
       "      <td>0.11 %</td>\n",
       "    </tr>\n",
       "    <tr>\n",
       "      <th>1070</th>\n",
       "      <td>Zhuan Zhuan</td>\n",
       "      <td>1</td>\n",
       "      <td>2017-04-18</td>\n",
       "      <td>E-commerce &amp; direct-to-consumer</td>\n",
       "      <td>Beijing</td>\n",
       "      <td>China</td>\n",
       "      <td>Asia</td>\n",
       "      <td>2015</td>\n",
       "      <td>990</td>\n",
       "      <td>58.com, Tencent Holdings</td>\n",
       "      <td>58.com</td>\n",
       "      <td>Tencent Holdings</td>\n",
       "      <td>None</td>\n",
       "      <td>None</td>\n",
       "      <td>0.101010</td>\n",
       "      <td>0.1 %</td>\n",
       "    </tr>\n",
       "  </tbody>\n",
       "</table>\n",
       "<p>1062 rows × 16 columns</p>\n",
       "</div>"
      ],
      "text/plain": [
       "                   Company  Valuation Date Joined  \\\n",
       "189   Otto Bock HealthCare          4  2017-06-24   \n",
       "2                    SHEIN        100  2018-07-03   \n",
       "3                   Stripe         95  2014-01-23   \n",
       "0                Bytedance        180  2017-04-07   \n",
       "6             Checkout.com         40  2019-05-02   \n",
       "...                    ...        ...         ...   \n",
       "1061                 WeLab          1  2017-11-08   \n",
       "799                   Tuhu          1  2018-09-15   \n",
       "668             Forte Labs          1  2021-05-12   \n",
       "658        Miaoshou Doctor          1  2019-06-27   \n",
       "1070           Zhuan Zhuan          1  2017-04-18   \n",
       "\n",
       "                             Industry           City         Country  \\\n",
       "189                            Health     Duderstadt         Germany   \n",
       "2     E-commerce & direct-to-consumer       Shenzhen           China   \n",
       "3                             Fintech  San Francisco   United States   \n",
       "0             Artificial intelligence        Beijing           China   \n",
       "6                             Fintech         London  United Kingdom   \n",
       "...                               ...            ...             ...   \n",
       "1061                          Fintech            NaN       Hong Kong   \n",
       "799             Auto & transportation       Shanghai           China   \n",
       "668                           Fintech  San Francisco   United States   \n",
       "658   E-commerce & direct-to-consumer        Beijing           China   \n",
       "1070  E-commerce & direct-to-consumer        Beijing           China   \n",
       "\n",
       "          Continent  Year Founded  Funding  \\\n",
       "189          Europe          1919        0   \n",
       "2              Asia          2008        2   \n",
       "3     North America          2010        2   \n",
       "0              Asia          2012        8   \n",
       "6            Europe          2012        2   \n",
       "...             ...           ...      ...   \n",
       "1061           Asia          2013      871   \n",
       "799            Asia          2011      875   \n",
       "668   North America          2018      910   \n",
       "658            Asia          2015      947   \n",
       "1070           Asia          2015      990   \n",
       "\n",
       "                                       Select Investors  \\\n",
       "189                                        EQT Partners   \n",
       "2     Tiger Global Management, Sequoia Capital China...   \n",
       "3           Khosla Ventures, LowercaseCapital, capitalG   \n",
       "0     Sequoia Capital China, SIG Asia Investments, S...   \n",
       "6     Tiger Global Management, Insight Partners, DST...   \n",
       "...                                                 ...   \n",
       "1061  Sequoia Capital China, ING, Alibaba Entreprene...   \n",
       "799   Qiming Venture Partners, Yaxia Automobile, Far...   \n",
       "668                 Iris Capital, Accel, Elaia Partners   \n",
       "658   Sequoia Capital China, Qiming Venture Partners...   \n",
       "1070                           58.com, Tencent Holdings   \n",
       "\n",
       "                            0                         1  \\\n",
       "189              EQT Partners                      None   \n",
       "2     Tiger Global Management     Sequoia Capital China   \n",
       "3             Khosla Ventures          LowercaseCapital   \n",
       "0       Sequoia Capital China      SIG Asia Investments   \n",
       "6     Tiger Global Management          Insight Partners   \n",
       "...                       ...                       ...   \n",
       "1061    Sequoia Capital China                       ING   \n",
       "799   Qiming Venture Partners          Yaxia Automobile   \n",
       "668              Iris Capital                     Accel   \n",
       "658     Sequoia Capital China   Qiming Venture Partners   \n",
       "1070                   58.com          Tencent Holdings   \n",
       "\n",
       "                                2                3          roi   per_roi  \n",
       "189                          None             None          inf     inf %  \n",
       "2        Shunwei Capital Partners             None  5000.000000  5000.0 %  \n",
       "3                        capitalG             None  4750.000000  4750.0 %  \n",
       "0                      Sina Weibo   Softbank Group  2250.000000  2250.0 %  \n",
       "6                      DST Global             None  2000.000000  2000.0 %  \n",
       "...                           ...              ...          ...       ...  \n",
       "1061   Alibaba Entrepreneurs Fund             None     0.114811    0.11 %  \n",
       "799              Far East Horizon             None     0.114286    0.11 %  \n",
       "668                Elaia Partners             None     0.109890    0.11 %  \n",
       "658              Tencent Holdings             None     0.105597    0.11 %  \n",
       "1070                         None             None     0.101010     0.1 %  \n",
       "\n",
       "[1062 rows x 16 columns]"
      ]
     },
     "execution_count": 19,
     "metadata": {},
     "output_type": "execute_result"
    }
   ],
   "source": [
    "top_roi"
   ]
  },
  {
   "cell_type": "code",
   "execution_count": 20,
   "id": "eb014f3d",
   "metadata": {},
   "outputs": [
    {
     "data": {
      "text/html": [
       "<div>\n",
       "<style scoped>\n",
       "    .dataframe tbody tr th:only-of-type {\n",
       "        vertical-align: middle;\n",
       "    }\n",
       "\n",
       "    .dataframe tbody tr th {\n",
       "        vertical-align: top;\n",
       "    }\n",
       "\n",
       "    .dataframe thead th {\n",
       "        text-align: right;\n",
       "    }\n",
       "</style>\n",
       "<table border=\"1\" class=\"dataframe\">\n",
       "  <thead>\n",
       "    <tr style=\"text-align: right;\">\n",
       "      <th></th>\n",
       "      <th>Company</th>\n",
       "      <th>Industry</th>\n",
       "      <th>per_roi</th>\n",
       "    </tr>\n",
       "  </thead>\n",
       "  <tbody>\n",
       "    <tr>\n",
       "      <th>189</th>\n",
       "      <td>Otto Bock HealthCare</td>\n",
       "      <td>Health</td>\n",
       "      <td>inf %</td>\n",
       "    </tr>\n",
       "    <tr>\n",
       "      <th>2</th>\n",
       "      <td>SHEIN</td>\n",
       "      <td>E-commerce &amp; direct-to-consumer</td>\n",
       "      <td>5000.0 %</td>\n",
       "    </tr>\n",
       "    <tr>\n",
       "      <th>3</th>\n",
       "      <td>Stripe</td>\n",
       "      <td>Fintech</td>\n",
       "      <td>4750.0 %</td>\n",
       "    </tr>\n",
       "    <tr>\n",
       "      <th>0</th>\n",
       "      <td>Bytedance</td>\n",
       "      <td>Artificial intelligence</td>\n",
       "      <td>2250.0 %</td>\n",
       "    </tr>\n",
       "    <tr>\n",
       "      <th>6</th>\n",
       "      <td>Checkout.com</td>\n",
       "      <td>Fintech</td>\n",
       "      <td>2000.0 %</td>\n",
       "    </tr>\n",
       "    <tr>\n",
       "      <th>10</th>\n",
       "      <td>Revolut</td>\n",
       "      <td>Fintech</td>\n",
       "      <td>1650.0 %</td>\n",
       "    </tr>\n",
       "    <tr>\n",
       "      <th>12</th>\n",
       "      <td>FTX</td>\n",
       "      <td>Fintech</td>\n",
       "      <td>1600.0 %</td>\n",
       "    </tr>\n",
       "    <tr>\n",
       "      <th>1</th>\n",
       "      <td>SpaceX</td>\n",
       "      <td>Other</td>\n",
       "      <td>1428.57 %</td>\n",
       "    </tr>\n",
       "    <tr>\n",
       "      <th>7</th>\n",
       "      <td>Instacart</td>\n",
       "      <td>Supply chain, logistics, &amp; delivery</td>\n",
       "      <td>1300.0 %</td>\n",
       "    </tr>\n",
       "    <tr>\n",
       "      <th>9</th>\n",
       "      <td>Databricks</td>\n",
       "      <td>Data management &amp; analytics</td>\n",
       "      <td>1266.67 %</td>\n",
       "    </tr>\n",
       "    <tr>\n",
       "      <th>14</th>\n",
       "      <td>Chime</td>\n",
       "      <td>Fintech</td>\n",
       "      <td>1250.0 %</td>\n",
       "    </tr>\n",
       "    <tr>\n",
       "      <th>31</th>\n",
       "      <td>Faire</td>\n",
       "      <td>Artificial intelligence</td>\n",
       "      <td>1200.0 %</td>\n",
       "    </tr>\n",
       "    <tr>\n",
       "      <th>33</th>\n",
       "      <td>Brex</td>\n",
       "      <td>Fintech</td>\n",
       "      <td>1200.0 %</td>\n",
       "    </tr>\n",
       "    <tr>\n",
       "      <th>32</th>\n",
       "      <td>Airtable</td>\n",
       "      <td>Internet software &amp; services</td>\n",
       "      <td>1200.0 %</td>\n",
       "    </tr>\n",
       "    <tr>\n",
       "      <th>4</th>\n",
       "      <td>Klarna</td>\n",
       "      <td>Fintech</td>\n",
       "      <td>1150.0 %</td>\n",
       "    </tr>\n",
       "    <tr>\n",
       "      <th>44</th>\n",
       "      <td>Bolt</td>\n",
       "      <td>Fintech</td>\n",
       "      <td>1100.0 %</td>\n",
       "    </tr>\n",
       "    <tr>\n",
       "      <th>40</th>\n",
       "      <td>Bolt</td>\n",
       "      <td>Auto &amp; transportation</td>\n",
       "      <td>1100.0 %</td>\n",
       "    </tr>\n",
       "    <tr>\n",
       "      <th>45</th>\n",
       "      <td>Celonis</td>\n",
       "      <td>Data management &amp; analytics</td>\n",
       "      <td>1100.0 %</td>\n",
       "    </tr>\n",
       "    <tr>\n",
       "      <th>58</th>\n",
       "      <td>reddit</td>\n",
       "      <td>Internet software &amp; services</td>\n",
       "      <td>1000.0 %</td>\n",
       "    </tr>\n",
       "    <tr>\n",
       "      <th>50</th>\n",
       "      <td>ServiceTitan</td>\n",
       "      <td>Internet software &amp; services</td>\n",
       "      <td>1000.0 %</td>\n",
       "    </tr>\n",
       "  </tbody>\n",
       "</table>\n",
       "</div>"
      ],
      "text/plain": [
       "                  Company                             Industry    per_roi\n",
       "189  Otto Bock HealthCare                               Health      inf %\n",
       "2                   SHEIN      E-commerce & direct-to-consumer   5000.0 %\n",
       "3                  Stripe                              Fintech   4750.0 %\n",
       "0               Bytedance              Artificial intelligence   2250.0 %\n",
       "6            Checkout.com                              Fintech   2000.0 %\n",
       "10                Revolut                              Fintech   1650.0 %\n",
       "12                    FTX                              Fintech   1600.0 %\n",
       "1                  SpaceX                                Other  1428.57 %\n",
       "7               Instacart  Supply chain, logistics, & delivery   1300.0 %\n",
       "9              Databricks          Data management & analytics  1266.67 %\n",
       "14                  Chime                              Fintech   1250.0 %\n",
       "31                  Faire              Artificial intelligence   1200.0 %\n",
       "33                   Brex                              Fintech   1200.0 %\n",
       "32               Airtable         Internet software & services   1200.0 %\n",
       "4                  Klarna                              Fintech   1150.0 %\n",
       "44                   Bolt                              Fintech   1100.0 %\n",
       "40                   Bolt                Auto & transportation   1100.0 %\n",
       "45                Celonis          Data management & analytics   1100.0 %\n",
       "58                 reddit         Internet software & services   1000.0 %\n",
       "50           ServiceTitan         Internet software & services   1000.0 %"
      ]
     },
     "execution_count": 20,
     "metadata": {},
     "output_type": "execute_result"
    }
   ],
   "source": [
    "top_roi.loc[:,['Company','Industry','per_roi']].head(20).drop_duplicates()"
   ]
  },
  {
   "cell_type": "markdown",
   "id": "1c432d1f",
   "metadata": {},
   "source": [
    "#### Insights:from the table above we can clearly see that these companies are having the highest ROI,the percentage is huge,most of the \n",
    "###companies are from the Fintech industry"
   ]
  },
  {
   "cell_type": "code",
   "execution_count": 21,
   "id": "f2b8fd69",
   "metadata": {},
   "outputs": [],
   "source": [
    "##2"
   ]
  },
  {
   "cell_type": "code",
   "execution_count": 22,
   "id": "d42cc6a1",
   "metadata": {},
   "outputs": [],
   "source": [
    "uc_comp['Date Joined']=pd.to_datetime(uc_comp['Date Joined'])"
   ]
  },
  {
   "cell_type": "code",
   "execution_count": 23,
   "id": "de20f350",
   "metadata": {},
   "outputs": [
    {
     "name": "stdout",
     "output_type": "stream",
     "text": [
      "<class 'pandas.core.frame.DataFrame'>\n",
      "Int64Index: 1062 entries, 0 to 1073\n",
      "Data columns (total 15 columns):\n",
      " #   Column            Non-Null Count  Dtype         \n",
      "---  ------            --------------  -----         \n",
      " 0   Company           1062 non-null   object        \n",
      " 1   Valuation         1062 non-null   int64         \n",
      " 2   Date Joined       1062 non-null   datetime64[ns]\n",
      " 3   Industry          1062 non-null   object        \n",
      " 4   City              1046 non-null   object        \n",
      " 5   Country           1062 non-null   object        \n",
      " 6   Continent         1062 non-null   object        \n",
      " 7   Year Founded      1062 non-null   int64         \n",
      " 8   Funding           1062 non-null   int64         \n",
      " 9   Select Investors  1061 non-null   object        \n",
      " 10  0                 1061 non-null   object        \n",
      " 11  1                 1019 non-null   object        \n",
      " 12  2                 939 non-null    object        \n",
      " 13  3                 8 non-null      object        \n",
      " 14  roi               1062 non-null   float64       \n",
      "dtypes: datetime64[ns](1), float64(1), int64(3), object(10)\n",
      "memory usage: 132.8+ KB\n"
     ]
    }
   ],
   "source": [
    "uc_comp.info()"
   ]
  },
  {
   "cell_type": "code",
   "execution_count": 24,
   "id": "f084081c",
   "metadata": {},
   "outputs": [],
   "source": [
    "uc_comp['Timetaken']=uc_comp['Date Joined'].dt.year.astype('int64')-uc_comp['Year Founded']"
   ]
  },
  {
   "cell_type": "code",
   "execution_count": 25,
   "id": "3085ea5c",
   "metadata": {},
   "outputs": [
    {
     "name": "stdout",
     "output_type": "stream",
     "text": [
      "6.989642184557439\n",
      "-4\n",
      "98\n"
     ]
    }
   ],
   "source": [
    "print(uc_comp['Timetaken'].mean())\n",
    "print(uc_comp['Timetaken'].min())\n",
    "print(uc_comp['Timetaken'].max())"
   ]
  },
  {
   "cell_type": "code",
   "execution_count": 26,
   "id": "14e944bb",
   "metadata": {},
   "outputs": [
    {
     "data": {
      "text/html": [
       "<div>\n",
       "<style scoped>\n",
       "    .dataframe tbody tr th:only-of-type {\n",
       "        vertical-align: middle;\n",
       "    }\n",
       "\n",
       "    .dataframe tbody tr th {\n",
       "        vertical-align: top;\n",
       "    }\n",
       "\n",
       "    .dataframe thead th {\n",
       "        text-align: right;\n",
       "    }\n",
       "</style>\n",
       "<table border=\"1\" class=\"dataframe\">\n",
       "  <thead>\n",
       "    <tr style=\"text-align: right;\">\n",
       "      <th></th>\n",
       "      <th>Company</th>\n",
       "      <th>Valuation</th>\n",
       "      <th>Date Joined</th>\n",
       "      <th>Industry</th>\n",
       "      <th>City</th>\n",
       "      <th>Country</th>\n",
       "      <th>Continent</th>\n",
       "      <th>Year Founded</th>\n",
       "      <th>Funding</th>\n",
       "      <th>Select Investors</th>\n",
       "      <th>0</th>\n",
       "      <th>1</th>\n",
       "      <th>2</th>\n",
       "      <th>3</th>\n",
       "      <th>roi</th>\n",
       "      <th>Timetaken</th>\n",
       "    </tr>\n",
       "  </thead>\n",
       "  <tbody>\n",
       "    <tr>\n",
       "      <th>714</th>\n",
       "      <td>Yidian Zixun</td>\n",
       "      <td>1</td>\n",
       "      <td>2017-10-17</td>\n",
       "      <td>Mobile &amp; telecommunications</td>\n",
       "      <td>Beijing</td>\n",
       "      <td>China</td>\n",
       "      <td>Asia</td>\n",
       "      <td>2021</td>\n",
       "      <td>151</td>\n",
       "      <td>Phoenix New Media, Tianjin Haihe Industry Fund</td>\n",
       "      <td>Phoenix New Media</td>\n",
       "      <td>Tianjin Haihe Industry Fund</td>\n",
       "      <td>None</td>\n",
       "      <td>None</td>\n",
       "      <td>0.662252</td>\n",
       "      <td>-4</td>\n",
       "    </tr>\n",
       "  </tbody>\n",
       "</table>\n",
       "</div>"
      ],
      "text/plain": [
       "          Company  Valuation Date Joined                     Industry  \\\n",
       "714  Yidian Zixun          1  2017-10-17  Mobile & telecommunications   \n",
       "\n",
       "        City Country Continent  Year Founded  Funding  \\\n",
       "714  Beijing   China      Asia          2021      151   \n",
       "\n",
       "                                   Select Investors                  0  \\\n",
       "714  Phoenix New Media, Tianjin Haihe Industry Fund  Phoenix New Media   \n",
       "\n",
       "                                1     2     3       roi  Timetaken  \n",
       "714   Tianjin Haihe Industry Fund  None  None  0.662252         -4  "
      ]
     },
     "execution_count": 26,
     "metadata": {},
     "output_type": "execute_result"
    }
   ],
   "source": [
    "uc_comp.loc[uc_comp.Timetaken.min()==uc_comp.Timetaken,:]"
   ]
  },
  {
   "cell_type": "code",
   "execution_count": 27,
   "id": "a7159bf9",
   "metadata": {},
   "outputs": [
    {
     "data": {
      "text/plain": [
       "4.0"
      ]
     },
     "execution_count": 27,
     "metadata": {},
     "output_type": "execute_result"
    }
   ],
   "source": [
    "uc_comp['Timetaken'].quantile(0.25)"
   ]
  },
  {
   "cell_type": "code",
   "execution_count": 28,
   "id": "9ea0792c",
   "metadata": {},
   "outputs": [],
   "source": [
    " q1=uc_comp['Timetaken'].quantile(0.25)\n",
    "q3=uc_comp['Timetaken'].quantile(0.75)\n",
    "iqr=q3-q1\n",
    "lc_iqr = q1 - 1.5 * iqr\n",
    "uc_iqr = q3 + 1.5 * iqr"
   ]
  },
  {
   "cell_type": "code",
   "execution_count": 29,
   "id": "570b4113",
   "metadata": {},
   "outputs": [],
   "source": [
    "uc_comp=uc_comp.loc[(uc_comp.Timetaken>lc_iqr) & (uc_comp.Timetaken<uc_iqr),:]"
   ]
  },
  {
   "cell_type": "code",
   "execution_count": 30,
   "id": "11f4bcaa",
   "metadata": {},
   "outputs": [
    {
     "data": {
      "text/plain": [
       "Timetaken\n",
       "0      0.0\n",
       "1      1.0\n",
       "2      2.0\n",
       "3      3.0\n",
       "4      4.0\n",
       "5      5.0\n",
       "6      6.0\n",
       "7      7.0\n",
       "8      8.0\n",
       "9      9.0\n",
       "10    10.0\n",
       "11    11.0\n",
       "12    12.0\n",
       "13    13.0\n",
       "14    14.0\n",
       "15    15.0\n",
       "16    16.0\n",
       "Name: Timetaken, dtype: float64"
      ]
     },
     "execution_count": 30,
     "metadata": {},
     "output_type": "execute_result"
    }
   ],
   "source": [
    "uc_comp.groupby(by='Timetaken')['Timetaken'].agg('mean','min','max')"
   ]
  },
  {
   "cell_type": "markdown",
   "id": "5ee99d57",
   "metadata": {},
   "source": [
    "### Which countries have the most unicorns? Are there any cities that appear to be industry hubs?"
   ]
  },
  {
   "cell_type": "code",
   "execution_count": 31,
   "id": "8482499f",
   "metadata": {},
   "outputs": [],
   "source": [
    "uc_con_city=uc_comp.groupby(by=['Country','City'])['Company'].count().reset_index()"
   ]
  },
  {
   "cell_type": "code",
   "execution_count": 32,
   "id": "f4878cb9",
   "metadata": {},
   "outputs": [],
   "source": [
    "top_20=uc_con_city.sort_values(by='Company',ascending=False).head(20)"
   ]
  },
  {
   "cell_type": "code",
   "execution_count": 53,
   "id": "21a73aeb",
   "metadata": {},
   "outputs": [
    {
     "data": {
      "image/png": "[encoded data removed]",
      "text/plain": [
       "<Figure size 1440x720 with 1 Axes>"
      ]
     },
     "metadata": {
      "needs_background": "light"
     },
     "output_type": "display_data"
    }
   ],
   "source": [
    "plt.figure(figsize=(20,10))\n",
    "splot=sns.barplot(x='City',y='Company',data=top_20,hue='Country',orient=\"v\",dodge=False,capsize=0.1)\n",
    "for p in splot.patches:\n",
    "    splot.annotate(format(p.get_height(), '.2f'), (p.get_x() + p.get_width() / 2., p.get_height()),  ha = 'center', va = 'center', xytext = (0, 10), textcoords = 'offset points')\n"
   ]
  },
  {
   "cell_type": "markdown",
   "id": "592a77d7",
   "metadata": {},
   "source": [
    "### Which investors have funded the most unicorns?"
   ]
  },
  {
   "cell_type": "code",
   "execution_count": 34,
   "id": "b9213853",
   "metadata": {},
   "outputs": [],
   "source": [
    "###\n",
    "g0=pd.DataFrame(uc_comp[0].value_counts())\n",
    "\n",
    "g1=pd.DataFrame(uc_comp[1].value_counts())\n",
    "g2=pd.DataFrame(uc_comp[2].value_counts())\n",
    "g3=pd.DataFrame(uc_comp[3].value_counts())"
   ]
  },
  {
   "cell_type": "code",
   "execution_count": 35,
   "id": "7ca3297e",
   "metadata": {},
   "outputs": [],
   "source": [
    "g=pd.concat([g0,g1,g2,g3,],axis=0)"
   ]
  },
  {
   "cell_type": "code",
   "execution_count": 36,
   "id": "23208af6",
   "metadata": {},
   "outputs": [],
   "source": [
    "g=g.fillna(0)"
   ]
  },
  {
   "cell_type": "code",
   "execution_count": 37,
   "id": "f7c65a4e",
   "metadata": {},
   "outputs": [],
   "source": [
    "g['Total_investment']=g[0]+g[1]+g[2]+g[3]"
   ]
  },
  {
   "cell_type": "code",
   "execution_count": 38,
   "id": "2166ce97",
   "metadata": {},
   "outputs": [],
   "source": [
    "g=g.reset_index()"
   ]
  },
  {
   "cell_type": "code",
   "execution_count": 42,
   "id": "371dec77",
   "metadata": {},
   "outputs": [],
   "source": [
    "s=g.groupby(by='index')['Total_investment'].sum().sort_values(ascending=False).reset_index().head(10)"
   ]
  },
  {
   "cell_type": "code",
   "execution_count": 43,
   "id": "43a9a6d0",
   "metadata": {},
   "outputs": [
    {
     "data": {
      "text/html": [
       "<div>\n",
       "<style scoped>\n",
       "    .dataframe tbody tr th:only-of-type {\n",
       "        vertical-align: middle;\n",
       "    }\n",
       "\n",
       "    .dataframe tbody tr th {\n",
       "        vertical-align: top;\n",
       "    }\n",
       "\n",
       "    .dataframe thead th {\n",
       "        text-align: right;\n",
       "    }\n",
       "</style>\n",
       "<table border=\"1\" class=\"dataframe\">\n",
       "  <thead>\n",
       "    <tr style=\"text-align: right;\">\n",
       "      <th></th>\n",
       "      <th>index</th>\n",
       "      <th>Total_investment</th>\n",
       "    </tr>\n",
       "  </thead>\n",
       "  <tbody>\n",
       "    <tr>\n",
       "      <th>0</th>\n",
       "      <td>Tiger Global Management</td>\n",
       "      <td>35.0</td>\n",
       "    </tr>\n",
       "    <tr>\n",
       "      <th>1</th>\n",
       "      <td>Accel</td>\n",
       "      <td>32.0</td>\n",
       "    </tr>\n",
       "    <tr>\n",
       "      <th>2</th>\n",
       "      <td>Sequoia Capital</td>\n",
       "      <td>30.0</td>\n",
       "    </tr>\n",
       "    <tr>\n",
       "      <th>3</th>\n",
       "      <td>Sequoia Capital China</td>\n",
       "      <td>30.0</td>\n",
       "    </tr>\n",
       "    <tr>\n",
       "      <th>4</th>\n",
       "      <td>Andreessen Horowitz</td>\n",
       "      <td>29.0</td>\n",
       "    </tr>\n",
       "    <tr>\n",
       "      <th>5</th>\n",
       "      <td>Accel</td>\n",
       "      <td>28.0</td>\n",
       "    </tr>\n",
       "    <tr>\n",
       "      <th>6</th>\n",
       "      <td>Insight Partners</td>\n",
       "      <td>23.0</td>\n",
       "    </tr>\n",
       "    <tr>\n",
       "      <th>7</th>\n",
       "      <td>Andreessen Horowitz</td>\n",
       "      <td>23.0</td>\n",
       "    </tr>\n",
       "    <tr>\n",
       "      <th>8</th>\n",
       "      <td>General Catalyst</td>\n",
       "      <td>23.0</td>\n",
       "    </tr>\n",
       "    <tr>\n",
       "      <th>9</th>\n",
       "      <td>Insight Partners</td>\n",
       "      <td>21.0</td>\n",
       "    </tr>\n",
       "  </tbody>\n",
       "</table>\n",
       "</div>"
      ],
      "text/plain": [
       "                      index  Total_investment\n",
       "0   Tiger Global Management              35.0\n",
       "1                     Accel              32.0\n",
       "2           Sequoia Capital              30.0\n",
       "3     Sequoia Capital China              30.0\n",
       "4       Andreessen Horowitz              29.0\n",
       "5                     Accel              28.0\n",
       "6          Insight Partners              23.0\n",
       "7       Andreessen Horowitz              23.0\n",
       "8          General Catalyst              23.0\n",
       "9          Insight Partners              21.0"
      ]
     },
     "execution_count": 43,
     "metadata": {},
     "output_type": "execute_result"
    }
   ],
   "source": [
    "s"
   ]
  },
  {
   "cell_type": "code",
   "execution_count": 49,
   "id": "a5edcfe1",
   "metadata": {},
   "outputs": [
    {
     "data": {
      "image/png": "[encoded data removed]",
      "text/plain": [
       "<Figure size 1440x720 with 1 Axes>"
      ]
     },
     "metadata": {
      "needs_background": "light"
     },
     "output_type": "display_data"
    }
   ],
   "source": [
    "\n",
    "plt.figure(figsize=(20,10))\n",
    "sns.barplot(x='index',y='Total_investment',data=s)\n",
    "plt.xlabel(\"Companies\")\n",
    "plt.ylabel(\"Number of Unicorns Invested\")\n",
    "plt.show()"
   ]
  },
  {
   "cell_type": "code",
   "execution_count": null,
   "id": "e2d30312",
   "metadata": {},
   "outputs": [],
   "source": []
  }
 ],
 "metadata": {
  "kernelspec": {
   "display_name": "Python 3 (ipykernel)",
   "language": "python",
   "name": "python3"
  },
  "language_info": {
   "codemirror_mode": {
    "name": "ipython",
    "version": 3
   },
   "file_extension": ".py",
   "mimetype": "text/x-python",
   "name": "python",
   "nbconvert_exporter": "python",
   "pygments_lexer": "ipython3",
   "version": "3.9.12"
  }
 },
 "nbformat": 4,
 "nbformat_minor": 5
}
